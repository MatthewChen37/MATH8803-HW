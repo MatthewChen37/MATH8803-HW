{
 "cells": [
  {
   "cell_type": "markdown",
   "metadata": {},
   "source": [
    "# Math 8803 HW2"
   ]
  },
  {
   "cell_type": "markdown",
   "metadata": {},
   "source": [
    "## Problem 1 - Inter-spike Interval of a Poisson point process spike train\n",
    "\n",
    "First, establishing some notation, we define the spike train point process as the Poisson point process $N(t)$. In other words, we interpret $N(t)$ as the number of spikes from time $0$ to $t$. Also, by the definition of a Poisson point process $N(0) = 0$. In other words, at time $t = 0$, we assume that no spikes have occurred. Furthermore, as given in the problem, the rate of this process is $r$.\n",
    "\n",
    "Before extending to inter-spike interval times, let us first analyze the distribution of time of arrival. Then, we define $T_{1}$ as the random variable representing the time of the first arrival. A key intuition is that the probability the first arrival time is after time $t$ is equivalent to the probability that there is not arrival between time $0$ to time $t$. In other words:\n",
    "\n",
    "$$\\mathbb{P}(T_{1} > t) = \\mathbb{P}(N_{t} = 0) = 1 - Poisson\\_CDF(0; rt) = e^{-rt}$$\n",
    "\n",
    "which means that $T_{1} \\sim Exponential(r)$, i.e. the time of the first arrival follows an exponential distribution with rate $r$.\n",
    "\n",
    "Now, let's look at the second arrival and see if we can generalize this distribution to times between spikes rather than between $0$ and the time of the first spike. Let $T_{2}$ be the time elapsed between the first arrival and the second arrival and let $t_{1}$ be the realized time of the first arrival. We are now interested in times $t_{2} > t_{1}$ where $t_{1} + t = t_{2}$ for some $t > 0$. Using the same argument as before, the probability that the second arrival is after time $t$ where $t_{2} + t > t_{1}$ is equivalent to the probability no spikes occur between the time interval $[t_{1}, t_{2}]$:\n",
    "\n",
    "$$\\mathbb{P}(T_{2} > t_{2} = t + t_{1}| T_{1} = t_{1}) = \\mathbb{P}(N_{t_{2}} - N_{t_{1}} = 0| T_{1} = t_{1}) $$\n",
    "\n",
    "Another key fact we have to use about the Poisson process is that it is also memoryless, i.e. that previous arrivals shouldn't influence subsequent arrivals. Moreover, the sum of Poisson random variables is a Poisson random variable with a rate that is the sum of the rates, i.e. if $X_{i} \\sim Poisson(\\mu_{i})$ for $i = 1, \\ldots, n$ then $X_{1} + \\ldots + X_{n} \\sim Poisson(\\mu_{1} + \\ldots + \\mu_{n})$. Thus:\n",
    "\n",
    "\\begin{align*}\n",
    "\\mathbb{P}(N_{t_{2}} - N_{t_{1}} = 0| T_{1} = t_{1}) &= \\mathbb{P}(N_{t_{2}} - N_{t_{1}} = 0) \\\\\n",
    " &= 1 - Poisson\\_CDF(0; r(t_{2} - t_{1})) \\\\\n",
    " &= e^{-r((t + t_{1}) - t_{1})} = e^{-rt}\n",
    "\\end{align*}\n",
    "\n",
    "This argument can be inductively generalized for random variables $T_{i}$ to $T_{i + 1}$ which means that the inter-spike interval follows an exponential distribution. Specifically, using the notation given in the problem, the mean of the exponential distribution is $r$ and if we are interested in finding the probability at inter-spike interval length $\\delta T$ we get:\n",
    "\n",
    "$$\\mathbb{P}(\\delta t) = Exponential\\_PDF(\\delta t; r) = re^{-r\\delta t}$$\n"
   ]
  },
  {
   "cell_type": "markdown",
   "metadata": {},
   "source": [
    "## Problem 2\n",
    "\n",
    "## (a) Izhekevich Model"
   ]
  },
  {
   "cell_type": "code",
   "execution_count": 2,
   "metadata": {},
   "outputs": [],
   "source": [
    "import numpy as np\n",
    "\n",
    "Delta_P_s_exc, Delta_P_s_inh = 0.1\n",
    "t1_inh = 1\n",
    "t2_inh = 0.5\n",
    "\n",
    "def prob_m_exc(N_exc, r_exc, timestep):\n",
    "\treturn np.random.binomial(N_exc, r_exc * timestep)\n",
    "\n",
    "def fire_excitatory_neurons(m_exc):\n",
    "\n",
    "\tA_exc = m_exc * Delta_P_s_exc (1 - )\n",
    "\tB_exc = \n",
    "\n",
    "\n",
    "def current_inhibitory_synapse():\n",
    "\n",
    "\n",
    "\n",
    "def n_inh():\n",
    "\tterm1 = np.pow((t2_inh / t1_inh), t2_inh / (t1_inh - t2_inh))\n",
    "\tterm2 = np.pow((t2_inh / t1_inh), t1_inh / (t1_inh - t2_inh))\n",
    "\treturn np.pow((term1 - term2), -1)\n",
    "\n",
    "\n",
    "def ode_int_izhekevich(a, b, c, d, voltage_threshold, end_time, timestep):\n",
    "\tT = np.arange(0, end_time + timestep, timestep)\n",
    "\tI = np.zeros(len(T))\n",
    "\tv = np.zeros(len(T))\n",
    "\tu = np.zeros(len(T))\n",
    "\n",
    "\tfor i in range(1, len(T)):\n",
    "\t\tt = T[i]\n",
    "\n",
    "\t\tIs = I_s_exc + I_s_inh\n",
    "\n",
    "\t\tV = V + timestep * (0.04 * pow(V, 2) + 5*V + 140 - U + Ic)\n",
    "\t\tU = U + timestep * (a*(b*V-U))\n",
    "\t\tI[i] = Is\n",
    "\t\tif (V >= voltage_threshold):\n",
    "\t\t\tv[i] = 30\n",
    "\t\t\tV = c\n",
    "\t\t\tU = U + d\n",
    "\t\telse:\n",
    "\t\t\tv[i] = V\n",
    "\t\tu[i] = U\n"
   ]
  },
  {
   "cell_type": "code",
   "execution_count": null,
   "metadata": {},
   "outputs": [],
   "source": [
    "a = 10\n",
    "c = -82.7 # V_rest in mV \n",
    "d, b = 0 # Quadratic Integrate and Fire Model \n",
    "voltage_threshold = 30\n",
    "end_time = 200 # ms\n",
    "timestep = 0.01 # ms\n"
   ]
  },
  {
   "cell_type": "markdown",
   "metadata": {},
   "source": []
  }
 ],
 "metadata": {
  "kernelspec": {
   "display_name": "base",
   "language": "python",
   "name": "python3"
  },
  "language_info": {
   "codemirror_mode": {
    "name": "ipython",
    "version": 3
   },
   "file_extension": ".py",
   "mimetype": "text/x-python",
   "name": "python",
   "nbconvert_exporter": "python",
   "pygments_lexer": "ipython3",
   "version": "3.11.4"
  }
 },
 "nbformat": 4,
 "nbformat_minor": 2
}
