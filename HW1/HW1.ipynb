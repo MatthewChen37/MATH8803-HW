{
 "cells": [
  {
   "cell_type": "markdown",
   "metadata": {},
   "source": [
    "# Math 8803 HW1"
   ]
  },
  {
   "cell_type": "markdown",
   "metadata": {},
   "source": [
    "## Problem 1 - Connor-Stevens Model\n",
    "\n",
    "\n",
    "The main differential equation for the Connor-Stevens Model is:\n",
    "\n",
    "$$I(t) = C (\\frac{dV}{dt}) + g_{L}(V - E_{L}) + g_{Na}(V - E_{Na}) + g_{K}(V - E_{K}) + g_{A}(V - E_{K})$$\n",
    "\n",
    "$$\\frac{dV}{dt} = \\frac{g_{L}(V - E_{L}) + g_{Na}(V - E_{Na}) + g_{K}(V - E_{K}) + g_{A}(V - E_{K}) - I(t)}{C}$$\n",
    "\n",
    "\n",
    "#### Explanation of Parameters:\n",
    "\n",
    "1. $ C (\\frac{dV}{dt}) $ - We can think of the membrane as a capacitor and $V$ represents the voltage across the membrane. $C$ is capacitance or $C = \\frac{q}{u} = \\frac{q}{V}$ where $q$ is a charge and $v$ reprecents the voltage across a capacitor. Thus, $ C (\\frac{dV}{dt}) $ is the charging current $I_{c}(t)$ that is applied on the membrane.\n",
    "\n",
    "2. $E_{Na}$ - Battery Voltage for Sodium\n",
    "\n",
    "3. $E_{K}$ - Battery Voltage for Potassium\n",
    "\n",
    "4. $E_{L}$ - Battery Voltage for Unspecific Third Channel\n",
    "\n",
    "5. $g_{Na} = \\overline{g}_{Na} m^{3}h$ - Sodium Conductance. Here $\\overline{g}_{Na}$ is a normalization constant, $m$ describes the activation/opening of the and $h$ describes the inactivation/blocking of the $Na^{+}$ channels.  \n",
    "\n",
    "6. $g_{K} = \\overline{g}_{k} n^{4}$ - Delayed Potassium Conductance, where $\\overline{g}_{k}$ is a normalization constant and $n$ controls the $K^{+}$ gates. \n",
    "\n",
    "7. $g_{A} = \\overline{g}_{A} A^{3}B$ - Transient Potassium Conductance, where $\\overline{g}_{A}$ is a normalization factor, $A$ is an activation term, and $B$ is an inactivation term. \n",
    "\n",
    "8. $g_{L}$ - Leaky Battery Conductance\n",
    "\n",
    "9. $V$ - Voltage across the cell membrane\n"
   ]
  },
  {
   "cell_type": "code",
   "execution_count": 2,
   "metadata": {},
   "outputs": [],
   "source": [
    "import numpy as np \n",
    "from scipy.integrate import solve_ivp\n",
    "from math import exp, pow"
   ]
  },
  {
   "cell_type": "code",
   "execution_count": 3,
   "metadata": {},
   "outputs": [],
   "source": [
    "# Rate functions for m \n",
    "def alpha_m(V):\n",
    "\t# potential numerical instability\n",
    "\tx = -(V + 29.7)\n",
    "\ty = 10.0\n",
    "\treturn (0.38 * x) / (exp(x/y) - 1.0)\n",
    "\n",
    "def beta_m(V):\n",
    "\treturn 15.2 * exp(-0.0556 * (V + 54.7))\n",
    "\n",
    "def m_inf(V):\n",
    "\treturn alpha_m(V) / (alpha_m(V) + beta_m(V))\n",
    "\n",
    "def tau_m(V):\n",
    "\treturn pow(10, -3) * (alpha_m(V) + beta_m(V))\n",
    "\n",
    "# Rate functions for h\n",
    "def alpha_h(V):\n",
    "\treturn 0.266 * exp(-0.05 * (V + 48))\n",
    "\n",
    "def beta_h(V):\n",
    "\treturn 3.8 / (1 + exp(-0.1 * (V + 18)))\n",
    "\n",
    "def h_inf(V):\n",
    "\treturn (alpha_h(V)) / (alpha_h(V) + beta_h(V))\n",
    "\n",
    "def tau_h(V):\n",
    "\treturn pow(10, -3) * (alpha_h(V) + beta_h(V))\n",
    "\n",
    "# Rate functions for n\n",
    "def alpha_n(V):\n",
    "\tx = -(V + 45.7)\n",
    "\ty = 10.0\n",
    "\treturn (0.02 * x) / (exp(x / y) - 1.0)\n",
    "\n",
    "def beta_n(V):\n",
    "\treturn 0.25 * exp(-0.0125 * (V + 55.7))\n",
    "\n",
    "def n_inf(V):\n",
    "\treturn alpha_n(V) / (alpha_n(V) + beta_n(V))\n",
    "\n",
    "def tau_n(V):\n",
    "\treturn pow(10, -3) * (alpha_n(V) + beta_n(V))\n",
    "\n",
    "# Rate functions for a\n",
    "def a_inf(V):\n",
    "\tnum = 0.0761 * exp(0.0314 * (V + 94.22))\n",
    "\tden = 1 + exp(0.0346 * (V + 1.17))\n",
    "\treturn pow(num / den, 1 / 3.0)\n",
    "\n",
    "def tau_a(V):\n",
    "\tden = 1 + exp(0.0497 * (V + 55.96))\n",
    "\treturn 0.3632 + (1.158 / den)\n",
    "\n",
    "# Rate functiosn for b\n",
    "def b_inf(V):\n",
    "\tterm = (1 / (1 + exp(0.0688 * (V + 53.3))))\n",
    "\treturn pow(term, 4)\n",
    "\n",
    "def tau_b(V):\n",
    "\tden = 1 + exp(0.0624 * (V + 50))\n",
    "\treturn 1.24 + (2.678 / den) \n"
   ]
  },
  {
   "cell_type": "markdown",
   "metadata": {},
   "source": [
    "#### Define constants\n",
    "\n",
    "1/cm^2 to 1/mm^2 Divide by 100\n",
    "\n",
    "1/mm^2 to 1/cm^2 Multiply by 100"
   ]
  },
  {
   "cell_type": "code",
   "execution_count": 4,
   "metadata": {},
   "outputs": [],
   "source": [
    "V0 = -68 # -68 mV\n",
    "\n",
    "# All in mmho /cm^2\n",
    "g_bar_na = 120 \n",
    "g_bar_k = 20\n",
    "g_bar_a = 47.7\n",
    "\n",
    "# All in mV\n",
    "E_na = 55\n",
    "E_k = -72\n",
    "E_l = -17\n",
    "\n",
    "# Capacitance and Leaky Conductance\n",
    "Cm = 1 # microFarad/cm^2\n",
    "g_l = 0.3 # mmho/cm^2"
   ]
  },
  {
   "cell_type": "code",
   "execution_count": null,
   "metadata": {},
   "outputs": [],
   "source": [
    "def ConnorStevens(t, V)\n",
    "\t:\n"
   ]
  }
 ],
 "metadata": {
  "kernelspec": {
   "display_name": "Python 3",
   "language": "python",
   "name": "python3"
  },
  "language_info": {
   "codemirror_mode": {
    "name": "ipython",
    "version": 3
   },
   "file_extension": ".py",
   "mimetype": "text/x-python",
   "name": "python",
   "nbconvert_exporter": "python",
   "pygments_lexer": "ipython3",
   "version": "3.11.4"
  }
 },
 "nbformat": 4,
 "nbformat_minor": 2
}
